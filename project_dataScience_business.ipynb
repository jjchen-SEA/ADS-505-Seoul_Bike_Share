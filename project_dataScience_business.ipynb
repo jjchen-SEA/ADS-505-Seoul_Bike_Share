{
 "cells": [
  {
   "cell_type": "markdown",
   "id": "55c9f577",
   "metadata": {},
   "source": [
    "# ADS Project Data Science in Business"
   ]
  },
  {
   "cell_type": "code",
   "execution_count": null,
   "id": "953a2f9f",
   "metadata": {},
   "outputs": [],
   "source": []
  },
  {
   "cell_type": "code",
   "execution_count": 1,
   "id": "189caa87",
   "metadata": {},
   "outputs": [],
   "source": [
    "import pandas as pd\n",
    "import seaborn as sns\n",
    "import matplotlib.pylab as plt\n",
    "import scikitplot as skplt\n",
    "import numpy as np\n",
    "import dmba\n",
    "from sklearn.metrics import accuracy_score, mean_squared_error\n",
    "import warnings\n",
    "warnings.filterwarnings(\"ignore\")"
   ]
  },
  {
   "cell_type": "code",
   "execution_count": 2,
   "id": "def4bebd",
   "metadata": {},
   "outputs": [],
   "source": [
    "bike = pd.read_csv('C:\\\\Users\\\\gauth\\\\Desktop\\\\SeoulBikeData.csv')"
   ]
  },
  {
   "cell_type": "code",
   "execution_count": 3,
   "id": "3906afc5",
   "metadata": {},
   "outputs": [
    {
     "name": "stdout",
     "output_type": "stream",
     "text": [
      "\n",
      "New DataFrame:\n"
     ]
    },
    {
     "data": {
      "text/html": [
       "<div>\n",
       "<style scoped>\n",
       "    .dataframe tbody tr th:only-of-type {\n",
       "        vertical-align: middle;\n",
       "    }\n",
       "\n",
       "    .dataframe tbody tr th {\n",
       "        vertical-align: top;\n",
       "    }\n",
       "\n",
       "    .dataframe thead th {\n",
       "        text-align: right;\n",
       "    }\n",
       "</style>\n",
       "<table border=\"1\" class=\"dataframe\">\n",
       "  <thead>\n",
       "    <tr style=\"text-align: right;\">\n",
       "      <th></th>\n",
       "      <th>Rented Bike Count</th>\n",
       "      <th>Hour</th>\n",
       "      <th>Temperature(°C)</th>\n",
       "      <th>Humidity(%)</th>\n",
       "      <th>Wind speed (m/s)</th>\n",
       "      <th>Visibility (10m)</th>\n",
       "      <th>Dew point temperature(°C)</th>\n",
       "      <th>Solar Radiation (MJ/m2)</th>\n",
       "      <th>Rainfall(mm)</th>\n",
       "      <th>Snowfall (cm)</th>\n",
       "      <th>Seasons</th>\n",
       "      <th>Holiday</th>\n",
       "      <th>Functioning Day</th>\n",
       "      <th>day</th>\n",
       "      <th>month</th>\n",
       "      <th>year</th>\n",
       "    </tr>\n",
       "  </thead>\n",
       "  <tbody>\n",
       "    <tr>\n",
       "      <th>0</th>\n",
       "      <td>254</td>\n",
       "      <td>0</td>\n",
       "      <td>-5.2</td>\n",
       "      <td>37</td>\n",
       "      <td>2.2</td>\n",
       "      <td>2000</td>\n",
       "      <td>-17.6</td>\n",
       "      <td>0.0</td>\n",
       "      <td>0.0</td>\n",
       "      <td>0.0</td>\n",
       "      <td>Winter</td>\n",
       "      <td>No Holiday</td>\n",
       "      <td>Yes</td>\n",
       "      <td>1</td>\n",
       "      <td>12</td>\n",
       "      <td>2017</td>\n",
       "    </tr>\n",
       "    <tr>\n",
       "      <th>1</th>\n",
       "      <td>204</td>\n",
       "      <td>1</td>\n",
       "      <td>-5.5</td>\n",
       "      <td>38</td>\n",
       "      <td>0.8</td>\n",
       "      <td>2000</td>\n",
       "      <td>-17.6</td>\n",
       "      <td>0.0</td>\n",
       "      <td>0.0</td>\n",
       "      <td>0.0</td>\n",
       "      <td>Winter</td>\n",
       "      <td>No Holiday</td>\n",
       "      <td>Yes</td>\n",
       "      <td>1</td>\n",
       "      <td>12</td>\n",
       "      <td>2017</td>\n",
       "    </tr>\n",
       "    <tr>\n",
       "      <th>2</th>\n",
       "      <td>173</td>\n",
       "      <td>2</td>\n",
       "      <td>-6.0</td>\n",
       "      <td>39</td>\n",
       "      <td>1.0</td>\n",
       "      <td>2000</td>\n",
       "      <td>-17.7</td>\n",
       "      <td>0.0</td>\n",
       "      <td>0.0</td>\n",
       "      <td>0.0</td>\n",
       "      <td>Winter</td>\n",
       "      <td>No Holiday</td>\n",
       "      <td>Yes</td>\n",
       "      <td>1</td>\n",
       "      <td>12</td>\n",
       "      <td>2017</td>\n",
       "    </tr>\n",
       "    <tr>\n",
       "      <th>3</th>\n",
       "      <td>107</td>\n",
       "      <td>3</td>\n",
       "      <td>-6.2</td>\n",
       "      <td>40</td>\n",
       "      <td>0.9</td>\n",
       "      <td>2000</td>\n",
       "      <td>-17.6</td>\n",
       "      <td>0.0</td>\n",
       "      <td>0.0</td>\n",
       "      <td>0.0</td>\n",
       "      <td>Winter</td>\n",
       "      <td>No Holiday</td>\n",
       "      <td>Yes</td>\n",
       "      <td>1</td>\n",
       "      <td>12</td>\n",
       "      <td>2017</td>\n",
       "    </tr>\n",
       "    <tr>\n",
       "      <th>4</th>\n",
       "      <td>78</td>\n",
       "      <td>4</td>\n",
       "      <td>-6.0</td>\n",
       "      <td>36</td>\n",
       "      <td>2.3</td>\n",
       "      <td>2000</td>\n",
       "      <td>-18.6</td>\n",
       "      <td>0.0</td>\n",
       "      <td>0.0</td>\n",
       "      <td>0.0</td>\n",
       "      <td>Winter</td>\n",
       "      <td>No Holiday</td>\n",
       "      <td>Yes</td>\n",
       "      <td>1</td>\n",
       "      <td>12</td>\n",
       "      <td>2017</td>\n",
       "    </tr>\n",
       "  </tbody>\n",
       "</table>\n",
       "</div>"
      ],
      "text/plain": [
       "   Rented Bike Count  Hour  Temperature(°C)  Humidity(%)  Wind speed (m/s)  \\\n",
       "0                254     0             -5.2           37               2.2   \n",
       "1                204     1             -5.5           38               0.8   \n",
       "2                173     2             -6.0           39               1.0   \n",
       "3                107     3             -6.2           40               0.9   \n",
       "4                 78     4             -6.0           36               2.3   \n",
       "\n",
       "   Visibility (10m)  Dew point temperature(°C)  Solar Radiation (MJ/m2)  \\\n",
       "0              2000                      -17.6                      0.0   \n",
       "1              2000                      -17.6                      0.0   \n",
       "2              2000                      -17.7                      0.0   \n",
       "3              2000                      -17.6                      0.0   \n",
       "4              2000                      -18.6                      0.0   \n",
       "\n",
       "   Rainfall(mm)  Snowfall (cm) Seasons     Holiday Functioning Day day month  \\\n",
       "0           0.0            0.0  Winter  No Holiday             Yes   1    12   \n",
       "1           0.0            0.0  Winter  No Holiday             Yes   1    12   \n",
       "2           0.0            0.0  Winter  No Holiday             Yes   1    12   \n",
       "3           0.0            0.0  Winter  No Holiday             Yes   1    12   \n",
       "4           0.0            0.0  Winter  No Holiday             Yes   1    12   \n",
       "\n",
       "   year  \n",
       "0  2017  \n",
       "1  2017  \n",
       "2  2017  \n",
       "3  2017  \n",
       "4  2017  "
      ]
     },
     "execution_count": 3,
     "metadata": {},
     "output_type": "execute_result"
    }
   ],
   "source": [
    "bike[[\"day\", \"month\", \"year\"]] = bike[\"Date\"].str.split(\"/\", expand = True)\n",
    "print(\"\\nNew DataFrame:\")\n",
    "bike.drop('Date', axis=1, inplace=True)\n",
    "bike.head()"
   ]
  },
  {
   "cell_type": "code",
   "execution_count": 4,
   "id": "851e24ee",
   "metadata": {},
   "outputs": [],
   "source": [
    "bike.drop('year', axis=1, inplace=True)\n",
    "bike.drop('Holiday', axis=1, inplace=True)"
   ]
  },
  {
   "cell_type": "code",
   "execution_count": 5,
   "id": "3f64a634",
   "metadata": {},
   "outputs": [],
   "source": [
    "Seasons_map = {\n",
    "    'Winter' : 1,\n",
    "    'Spring' : 2,\n",
    "    'Summer' : 3,\n",
    "    'Autumn' : 4\n",
    "}\n",
    "Seasons_data = bike['Seasons'].map(Seasons_map)\n",
    "Func_day_map = {\n",
    "    'Yes' : 1,\n",
    "    'No' : 0\n",
    "}\n",
    "Func_day_data = bike['Functioning Day'].map(Func_day_map)"
   ]
  },
  {
   "cell_type": "code",
   "execution_count": 6,
   "id": "702e27fa",
   "metadata": {},
   "outputs": [
    {
     "data": {
      "text/html": [
       "<div>\n",
       "<style scoped>\n",
       "    .dataframe tbody tr th:only-of-type {\n",
       "        vertical-align: middle;\n",
       "    }\n",
       "\n",
       "    .dataframe tbody tr th {\n",
       "        vertical-align: top;\n",
       "    }\n",
       "\n",
       "    .dataframe thead th {\n",
       "        text-align: right;\n",
       "    }\n",
       "</style>\n",
       "<table border=\"1\" class=\"dataframe\">\n",
       "  <thead>\n",
       "    <tr style=\"text-align: right;\">\n",
       "      <th></th>\n",
       "      <th>Rented Bike Count</th>\n",
       "      <th>Hour</th>\n",
       "      <th>Temperature(°C)</th>\n",
       "      <th>Humidity(%)</th>\n",
       "      <th>Wind speed (m/s)</th>\n",
       "      <th>Visibility (10m)</th>\n",
       "      <th>Dew point temperature(°C)</th>\n",
       "      <th>Solar Radiation (MJ/m2)</th>\n",
       "      <th>Rainfall(mm)</th>\n",
       "      <th>Snowfall (cm)</th>\n",
       "      <th>day</th>\n",
       "      <th>month</th>\n",
       "      <th>Seasons_Data</th>\n",
       "      <th>Functioning_Day_Data</th>\n",
       "    </tr>\n",
       "  </thead>\n",
       "  <tbody>\n",
       "    <tr>\n",
       "      <th>0</th>\n",
       "      <td>254</td>\n",
       "      <td>0</td>\n",
       "      <td>-5.2</td>\n",
       "      <td>37</td>\n",
       "      <td>2.2</td>\n",
       "      <td>2000</td>\n",
       "      <td>-17.6</td>\n",
       "      <td>0.0</td>\n",
       "      <td>0.0</td>\n",
       "      <td>0.0</td>\n",
       "      <td>1</td>\n",
       "      <td>12</td>\n",
       "      <td>1</td>\n",
       "      <td>1</td>\n",
       "    </tr>\n",
       "    <tr>\n",
       "      <th>1</th>\n",
       "      <td>204</td>\n",
       "      <td>1</td>\n",
       "      <td>-5.5</td>\n",
       "      <td>38</td>\n",
       "      <td>0.8</td>\n",
       "      <td>2000</td>\n",
       "      <td>-17.6</td>\n",
       "      <td>0.0</td>\n",
       "      <td>0.0</td>\n",
       "      <td>0.0</td>\n",
       "      <td>1</td>\n",
       "      <td>12</td>\n",
       "      <td>1</td>\n",
       "      <td>1</td>\n",
       "    </tr>\n",
       "    <tr>\n",
       "      <th>2</th>\n",
       "      <td>173</td>\n",
       "      <td>2</td>\n",
       "      <td>-6.0</td>\n",
       "      <td>39</td>\n",
       "      <td>1.0</td>\n",
       "      <td>2000</td>\n",
       "      <td>-17.7</td>\n",
       "      <td>0.0</td>\n",
       "      <td>0.0</td>\n",
       "      <td>0.0</td>\n",
       "      <td>1</td>\n",
       "      <td>12</td>\n",
       "      <td>1</td>\n",
       "      <td>1</td>\n",
       "    </tr>\n",
       "    <tr>\n",
       "      <th>3</th>\n",
       "      <td>107</td>\n",
       "      <td>3</td>\n",
       "      <td>-6.2</td>\n",
       "      <td>40</td>\n",
       "      <td>0.9</td>\n",
       "      <td>2000</td>\n",
       "      <td>-17.6</td>\n",
       "      <td>0.0</td>\n",
       "      <td>0.0</td>\n",
       "      <td>0.0</td>\n",
       "      <td>1</td>\n",
       "      <td>12</td>\n",
       "      <td>1</td>\n",
       "      <td>1</td>\n",
       "    </tr>\n",
       "    <tr>\n",
       "      <th>4</th>\n",
       "      <td>78</td>\n",
       "      <td>4</td>\n",
       "      <td>-6.0</td>\n",
       "      <td>36</td>\n",
       "      <td>2.3</td>\n",
       "      <td>2000</td>\n",
       "      <td>-18.6</td>\n",
       "      <td>0.0</td>\n",
       "      <td>0.0</td>\n",
       "      <td>0.0</td>\n",
       "      <td>1</td>\n",
       "      <td>12</td>\n",
       "      <td>1</td>\n",
       "      <td>1</td>\n",
       "    </tr>\n",
       "  </tbody>\n",
       "</table>\n",
       "</div>"
      ],
      "text/plain": [
       "   Rented Bike Count  Hour  Temperature(°C)  Humidity(%)  Wind speed (m/s)  \\\n",
       "0                254     0             -5.2           37               2.2   \n",
       "1                204     1             -5.5           38               0.8   \n",
       "2                173     2             -6.0           39               1.0   \n",
       "3                107     3             -6.2           40               0.9   \n",
       "4                 78     4             -6.0           36               2.3   \n",
       "\n",
       "   Visibility (10m)  Dew point temperature(°C)  Solar Radiation (MJ/m2)  \\\n",
       "0              2000                      -17.6                      0.0   \n",
       "1              2000                      -17.6                      0.0   \n",
       "2              2000                      -17.7                      0.0   \n",
       "3              2000                      -17.6                      0.0   \n",
       "4              2000                      -18.6                      0.0   \n",
       "\n",
       "   Rainfall(mm)  Snowfall (cm) day month  Seasons_Data  Functioning_Day_Data  \n",
       "0           0.0            0.0   1    12             1                     1  \n",
       "1           0.0            0.0   1    12             1                     1  \n",
       "2           0.0            0.0   1    12             1                     1  \n",
       "3           0.0            0.0   1    12             1                     1  \n",
       "4           0.0            0.0   1    12             1                     1  "
      ]
     },
     "execution_count": 6,
     "metadata": {},
     "output_type": "execute_result"
    }
   ],
   "source": [
    "bike_data=bike.copy()\n",
    "bike_data['Seasons_Data'] = Seasons_data\n",
    "bike_data['Functioning_Day_Data'] = Func_day_data\n",
    "bike_data.drop('Seasons', axis=1, inplace=True)\n",
    "bike_data.drop('Functioning Day', axis=1, inplace=True)\n",
    "\n",
    "bike_data.head()"
   ]
  },
  {
   "cell_type": "code",
   "execution_count": 7,
   "id": "d796407c",
   "metadata": {},
   "outputs": [],
   "source": [
    "from sklearn.model_selection import train_test_split, GridSearchCV"
   ]
  },
  {
   "cell_type": "code",
   "execution_count": 8,
   "id": "5cab36dc",
   "metadata": {},
   "outputs": [
    {
     "name": "stdout",
     "output_type": "stream",
     "text": [
      "Training   :  (6570, 14)\n",
      "Validation :  (2190, 14)\n"
     ]
    }
   ],
   "source": [
    "trainData,validData=train_test_split(bike_data,train_size=0.75,random_state=1)\n",
    "print ('Training   : ', trainData.shape)\n",
    "print ('Validation : ', validData.shape)"
   ]
  },
  {
   "cell_type": "code",
   "execution_count": 9,
   "id": "9898680c",
   "metadata": {},
   "outputs": [
    {
     "name": "stdout",
     "output_type": "stream",
     "text": [
      "Index(['Rented Bike Count', 'Hour', 'Temperature(°C)', 'Humidity(%)',\n",
      "       'Wind speed (m/s)', 'Visibility (10m)', 'Dew point temperature(°C)',\n",
      "       'Solar Radiation (MJ/m2)', 'Rainfall(mm)', 'Snowfall (cm)', 'day',\n",
      "       'month', 'Seasons_Data', 'Functioning_Day_Data'],\n",
      "      dtype='object')\n"
     ]
    }
   ],
   "source": [
    "print(bike_data.columns)"
   ]
  },
  {
   "cell_type": "code",
   "execution_count": 10,
   "id": "f012c805",
   "metadata": {},
   "outputs": [],
   "source": [
    "predictors=['Hour', 'Temperature(°C)', 'Humidity(%)',\n",
    "       'Wind speed (m/s)', 'Visibility (10m)', 'Dew point temperature(°C)',\n",
    "       'Solar Radiation (MJ/m2)', 'Rainfall(mm)', 'Snowfall (cm)', 'day',\n",
    "       'month', 'Seasons_Data', 'Functioning_Day_Data']\n",
    "outcome=['Rented Bike Count']"
   ]
  },
  {
   "cell_type": "code",
   "execution_count": 11,
   "id": "8c621b2c",
   "metadata": {},
   "outputs": [],
   "source": [
    "train_X = trainData[predictors]\n",
    "valid_X = validData[predictors]\n",
    "train_y = trainData[outcome]\n",
    "valid_y = validData[outcome]"
   ]
  },
  {
   "cell_type": "code",
   "execution_count": 12,
   "id": "610a563e",
   "metadata": {},
   "outputs": [],
   "source": [
    "from dmba import regressionSummary, classificationSummary, gainsChart, liftChart\n",
    "from dmba import AIC_score, adjusted_r2_score, BIC_score, stepwise_selection"
   ]
  },
  {
   "cell_type": "code",
   "execution_count": 13,
   "id": "515cc25e",
   "metadata": {},
   "outputs": [],
   "source": [
    "#linear regression\n",
    "from sklearn.linear_model import LinearRegression\n",
    "from dmba import regressionSummary, exhaustive_search\n",
    "\n",
    "\n",
    "def train_model(variables):\n",
    "    if len(variables)==0:\n",
    "        return None\n",
    "    model=LinearRegression()\n",
    "    model.fit(train_X[variables],train_y)\n",
    "    return model\n",
    "\n",
    "def score_model(model,variables):\n",
    "    if len(variables)==0:\n",
    "        return AIC_score(train_y,[train_y.mean()]*len(train_y),model,df=1)\n",
    "    return AIC_score(train_y,model.predict(train_X[variables]),model)"
   ]
  },
  {
   "cell_type": "code",
   "execution_count": 14,
   "id": "c618be43",
   "metadata": {},
   "outputs": [
    {
     "name": "stdout",
     "output_type": "stream",
     "text": [
      "Variables: Hour, Temperature(°C), Humidity(%), Wind speed (m/s), Visibility (10m), Dew point temperature(°C), Solar Radiation (MJ/m2), Rainfall(mm), Snowfall (cm), day, month, Seasons_Data, Functioning_Day_Data\n",
      "Start: score=103679.20, constant\n",
      "Step: score=101416.83, add Temperature(°C)\n",
      "Step: score=100197.80, add Hour\n",
      "Step: score=99626.98, add Functioning_Day_Data\n",
      "Step: score=99097.32, add Humidity(%)\n",
      "Step: score=98776.59, add Seasons_Data\n",
      "Step: score=98633.61, add Rainfall(mm)\n",
      "Step: score=98565.35, add Solar Radiation (MJ/m2)\n",
      "Step: score=98558.64, add Dew point temperature(°C)\n",
      "Step: score=98552.60, add Wind speed (m/s)\n",
      "Step: score=98549.99, add Snowfall (cm)\n",
      "Step: score=98548.01, add month\n",
      "Step: score=98546.36, add Visibility (10m)\n",
      "Step: score=98546.10, add day\n",
      "Step: score=98546.10, unchanged None\n",
      "['Temperature(°C)', 'Hour', 'Functioning_Day_Data', 'Humidity(%)', 'Seasons_Data', 'Rainfall(mm)', 'Solar Radiation (MJ/m2)', 'Dew point temperature(°C)', 'Wind speed (m/s)', 'Snowfall (cm)', 'month', 'Visibility (10m)', 'day']\n"
     ]
    }
   ],
   "source": [
    "from dmba import stepwise_selection, regressionSummary, gainsChart, AIC_score\n",
    "best_model, best_variables = stepwise_selection(predictors, train_model, score_model, \n",
    "                                                direction='forward',verbose=True)\n",
    "print(best_variables)"
   ]
  },
  {
   "cell_type": "code",
   "execution_count": 15,
   "id": "ea01316f",
   "metadata": {},
   "outputs": [
    {
     "name": "stdout",
     "output_type": "stream",
     "text": [
      "\n",
      "Regression statistics\n",
      "\n",
      "               Mean Error (ME) : -182461.5845\n",
      "Root Mean Squared Error (RMSE) : 195918.6459\n",
      "     Mean Absolute Error (MAE) : 182461.5845\n"
     ]
    }
   ],
   "source": [
    "best_model.fit(train_X,train_y)\n",
    "regressionSummary(valid_y, best_model.predict(valid_X[best_variables]))"
   ]
  },
  {
   "cell_type": "code",
   "execution_count": 16,
   "id": "665c2720",
   "metadata": {},
   "outputs": [
    {
     "data": {
      "text/plain": [
       "-93360.74271115607"
      ]
     },
     "execution_count": 16,
     "metadata": {},
     "output_type": "execute_result"
    }
   ],
   "source": [
    "from sklearn.metrics import r2_score\n",
    "r2_score(valid_y,best_model.predict(valid_X[best_variables]))"
   ]
  },
  {
   "cell_type": "code",
   "execution_count": 17,
   "id": "1911e270",
   "metadata": {},
   "outputs": [
    {
     "data": {
      "text/plain": [
       "Text(0.5, 1.0, 'Actual vs Predicted')"
      ]
     },
     "execution_count": 17,
     "metadata": {},
     "output_type": "execute_result"
    },
    {
     "data": {
      "image/png": "[encoded data removed]",
      "text/plain": [
       "<Figure size 432x288 with 1 Axes>"
      ]
     },
     "metadata": {
      "needs_background": "light"
     },
     "output_type": "display_data"
    }
   ],
   "source": [
    "plt.scatter(valid_y,best_model.predict(valid_X[best_variables]))\n",
    "plt.xlabel('Actual')\n",
    "plt.ylabel('Predicted')\n",
    "plt.title('Actual vs Predicted')"
   ]
  },
  {
   "cell_type": "code",
   "execution_count": 18,
   "id": "7523e617",
   "metadata": {},
   "outputs": [],
   "source": [
    "# regression tree\n",
    "from sklearn.tree import DecisionTreeRegressor\n",
    "\n",
    "def train_model(variables):\n",
    "    if len(variables) == 0:\n",
    "        return None\n",
    "    model = DecisionTreeRegressor()\n",
    "    return model.fit(train_X[variables], train_y)\n",
    "\n",
    "def score_model(model, variables):\n",
    "    if len(variables) == 0:\n",
    "        return mean_squared_error(train_y, [train_y.mean()] * len(train_y))\n",
    "    return mean_squared_error(train_y, model.predict(train_X[variables]))"
   ]
  },
  {
   "cell_type": "code",
   "execution_count": 19,
   "id": "15bec8cb",
   "metadata": {},
   "outputs": [
    {
     "name": "stdout",
     "output_type": "stream",
     "text": [
      "Variables: Hour, Temperature(°C), Humidity(%), Wind speed (m/s), Visibility (10m), Dew point temperature(°C), Solar Radiation (MJ/m2), Rainfall(mm), Snowfall (cm), day, month, Seasons_Data, Functioning_Day_Data\n",
      "Start: score=417572.96, constant\n",
      "Step: score=267314.20, add Temperature(°C)\n",
      "Step: score=26316.22, add Dew point temperature(°C)\n",
      "Step: score=484.69, add Hour\n",
      "Step: score=1.06, add day\n",
      "Step: score=0.00, add Wind speed (m/s)\n",
      "Step: score=0.00, unchanged None\n",
      "['Temperature(°C)', 'Dew point temperature(°C)', 'Hour', 'day', 'Wind speed (m/s)']\n"
     ]
    }
   ],
   "source": [
    "tree_model, best_variables_dt = stepwise_selection(predictors, train_model, score_model, \n",
    "                                                   direction='forward', verbose=True)\n",
    "print(best_variables_dt)"
   ]
  },
  {
   "cell_type": "code",
   "execution_count": 20,
   "id": "42df69d4",
   "metadata": {},
   "outputs": [
    {
     "name": "stdout",
     "output_type": "stream",
     "text": [
      "\n",
      "Regression statistics\n",
      "\n",
      "               Mean Error (ME) : -11.8237\n",
      "Root Mean Squared Error (RMSE) : 440.7928\n",
      "     Mean Absolute Error (MAE) : 252.8822\n"
     ]
    }
   ],
   "source": [
    "regressionSummary(valid_y, tree_model.predict(valid_X[best_variables_dt]))"
   ]
  },
  {
   "cell_type": "code",
   "execution_count": 21,
   "id": "643b838d",
   "metadata": {},
   "outputs": [
    {
     "data": {
      "text/plain": [
       "Text(0.5, 1.0, 'Actual vs Predicted')"
      ]
     },
     "execution_count": 21,
     "metadata": {},
     "output_type": "execute_result"
    },
    {
     "data": {
      "image/png": "[encoded data removed]",
      "text/plain": [
       "<Figure size 432x288 with 1 Axes>"
      ]
     },
     "metadata": {
      "needs_background": "light"
     },
     "output_type": "display_data"
    }
   ],
   "source": [
    "plt.scatter(valid_y, tree_model.predict(valid_X[best_variables_dt]))\n",
    "plt.xlabel('Actual')\n",
    "plt.ylabel('Predicted')\n",
    "plt.title('Actual vs Predicted')"
   ]
  }
 ],
 "metadata": {
  "kernelspec": {
   "display_name": "Python 3 (ipykernel)",
   "language": "python",
   "name": "python3"
  },
  "language_info": {
   "codemirror_mode": {
    "name": "ipython",
    "version": 3
   },
   "file_extension": ".py",
   "mimetype": "text/x-python",
   "name": "python",
   "nbconvert_exporter": "python",
   "pygments_lexer": "ipython3",
   "version": "3.9.7"
  }
 },
 "nbformat": 4,
 "nbformat_minor": 5
}
